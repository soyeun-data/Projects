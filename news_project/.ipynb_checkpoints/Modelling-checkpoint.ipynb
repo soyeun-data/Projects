{
 "cells": [
  {
   "cell_type": "code",
   "execution_count": 5,
   "id": "1b7c4bcb",
   "metadata": {},
   "outputs": [],
   "source": [
    "import pandas as pd\n",
    "from sklearn.model_selection import train_test_split\n",
    "import numpy as np\n",
    "import re\n",
    "from tqdm import tqdm\n",
    "import pickle\n",
    "import seaborn as sns\n",
    "from matplotlib import font_manager, rc\n",
    "import matplotlib.pyplot as plt"
   ]
  },
  {
   "cell_type": "markdown",
   "id": "75d0fd10",
   "metadata": {},
   "source": [
    "### 데이터 불러오기"
   ]
  },
  {
   "cell_type": "code",
   "execution_count": 6,
   "id": "4a8e7956",
   "metadata": {},
   "outputs": [],
   "source": [
    "DATA_DIR = 'C:/workspace/projects/data/news_project/'\n",
    "FILE_NAME = 'dataset_final.csv'"
   ]
  },
  {
   "cell_type": "code",
   "execution_count": 7,
   "id": "1ed1801a",
   "metadata": {},
   "outputs": [
    {
     "data": {
      "text/html": [
       "<div>\n",
       "<style scoped>\n",
       "    .dataframe tbody tr th:only-of-type {\n",
       "        vertical-align: middle;\n",
       "    }\n",
       "\n",
       "    .dataframe tbody tr th {\n",
       "        vertical-align: top;\n",
       "    }\n",
       "\n",
       "    .dataframe thead th {\n",
       "        text-align: right;\n",
       "    }\n",
       "</style>\n",
       "<table border=\"1\" class=\"dataframe\">\n",
       "  <thead>\n",
       "    <tr style=\"text-align: right;\">\n",
       "      <th></th>\n",
       "      <th>category</th>\n",
       "      <th>sentence</th>\n",
       "      <th>extractive</th>\n",
       "    </tr>\n",
       "  </thead>\n",
       "  <tbody>\n",
       "    <tr>\n",
       "      <th>0</th>\n",
       "      <td>종합</td>\n",
       "      <td>ha당 조사료 400만원…작물별 차등 지원</td>\n",
       "      <td>0</td>\n",
       "    </tr>\n",
       "    <tr>\n",
       "      <th>1</th>\n",
       "      <td>종합</td>\n",
       "      <td>이성훈 sinawi@hanmail.net</td>\n",
       "      <td>0</td>\n",
       "    </tr>\n",
       "    <tr>\n",
       "      <th>2</th>\n",
       "      <td>종합</td>\n",
       "      <td>전라남도가 쌀 과잉문제를 근본적으로 해결하기 위해 올해부터 시행하는 쌀 생산조정제를...</td>\n",
       "      <td>1</td>\n",
       "    </tr>\n",
       "    <tr>\n",
       "      <th>3</th>\n",
       "      <td>종합</td>\n",
       "      <td>쌀 생산조정제는 벼를 심었던 논에 벼 대신 사료작물이나 콩 등 다른 작물을 심으면 ...</td>\n",
       "      <td>1</td>\n",
       "    </tr>\n",
       "    <tr>\n",
       "      <th>4</th>\n",
       "      <td>종합</td>\n",
       "      <td>올해 전남의 논 다른 작물 재배 계획면적은 전국 5만ha의 약 21%인 1만 698...</td>\n",
       "      <td>0</td>\n",
       "    </tr>\n",
       "  </tbody>\n",
       "</table>\n",
       "</div>"
      ],
      "text/plain": [
       "  category                                           sentence  extractive\n",
       "0       종합                            ha당 조사료 400만원…작물별 차등 지원           0\n",
       "1       종합                             이성훈 sinawi@hanmail.net           0\n",
       "2       종합  전라남도가 쌀 과잉문제를 근본적으로 해결하기 위해 올해부터 시행하는 쌀 생산조정제를...           1\n",
       "3       종합  쌀 생산조정제는 벼를 심었던 논에 벼 대신 사료작물이나 콩 등 다른 작물을 심으면 ...           1\n",
       "4       종합  올해 전남의 논 다른 작물 재배 계획면적은 전국 5만ha의 약 21%인 1만 698...           0"
      ]
     },
     "execution_count": 7,
     "metadata": {},
     "output_type": "execute_result"
    }
   ],
   "source": [
    "dataset = pd.read_csv(DATA_DIR + FILE_NAME)\n",
    "dataset = dataset.dropna()\n",
    "dataset.head()"
   ]
  },
  {
   "cell_type": "code",
   "execution_count": 8,
   "id": "dbcd25ed",
   "metadata": {},
   "outputs": [
    {
     "data": {
      "text/plain": [
       "3495362"
      ]
     },
     "execution_count": 8,
     "metadata": {},
     "output_type": "execute_result"
    }
   ],
   "source": [
    "len(dataset)"
   ]
  },
  {
   "cell_type": "markdown",
   "id": "f3fb5c09",
   "metadata": {},
   "source": [
    "=> 데이터의 개수가 약 350만개로 현재 컴퓨팅 사양으로는 모델 학습이 어려울 것으로 판단되므로 샘플링 필요!"
   ]
  },
  {
   "cell_type": "markdown",
   "id": "d2d37b9a",
   "metadata": {},
   "source": [
    "### 카테고리 별 데이터 개수"
   ]
  },
  {
   "cell_type": "code",
   "execution_count": 9,
   "id": "e567d89c",
   "metadata": {},
   "outputs": [
    {
     "data": {
      "text/plain": [
       "종합           2515272\n",
       "경제            342249\n",
       "사회            261334\n",
       "정치            232837\n",
       "스포츠            96219\n",
       "IT,과학          25048\n",
       "교육/입시/NIE      19902\n",
       "부동산             1143\n",
       "보건/의료            703\n",
       "기업               500\n",
       "북한/한반도정세         122\n",
       "선거                33\n",
       "Name: category, dtype: int64"
      ]
     },
     "execution_count": 9,
     "metadata": {},
     "output_type": "execute_result"
    }
   ],
   "source": [
    "dataset['category'].value_counts()"
   ]
  },
  {
   "cell_type": "code",
   "execution_count": 10,
   "id": "19e2a422",
   "metadata": {},
   "outputs": [],
   "source": [
    "category_name = dataset['category'].value_counts().index\n",
    "category_count = list(dataset['category'].value_counts())"
   ]
  },
  {
   "cell_type": "code",
   "execution_count": 11,
   "id": "4bd4f635",
   "metadata": {},
   "outputs": [
    {
     "data": {
      "text/plain": [
       "<AxesSubplot:>"
      ]
     },
     "execution_count": 11,
     "metadata": {},
     "output_type": "execute_result"
    },
    {
     "data": {
      "image/png": "[encoded data removed]",
      "text/plain": [
       "<Figure size 1080x504 with 1 Axes>"
      ]
     },
     "metadata": {},
     "output_type": "display_data"
    }
   ],
   "source": [
    "sns.set(font=\"Malgun Gothic\", \n",
    "rc={\"axes.unicode_minus\":False}, style='white')\n",
    "plt.figure(figsize=(15, 7))\n",
    "\n",
    "sns.barplot(x=category_name, y=category_count)"
   ]
  },
  {
   "cell_type": "markdown",
   "id": "4f8f1ae7",
   "metadata": {},
   "source": [
    "### 타겟 별 데이터 개수"
   ]
  },
  {
   "cell_type": "code",
   "execution_count": 12,
   "id": "c6820c4f",
   "metadata": {},
   "outputs": [
    {
     "data": {
      "text/plain": [
       "0    2763488\n",
       "1     731874\n",
       "Name: extractive, dtype: int64"
      ]
     },
     "execution_count": 12,
     "metadata": {},
     "output_type": "execute_result"
    }
   ],
   "source": [
    "dataset['extractive'].value_counts()"
   ]
  },
  {
   "cell_type": "code",
   "execution_count": 13,
   "id": "05ffcd01",
   "metadata": {},
   "outputs": [],
   "source": [
    "extractive_name = dataset['extractive'].value_counts().index\n",
    "extractive_count = list(dataset['extractive'].value_counts())"
   ]
  },
  {
   "cell_type": "code",
   "execution_count": 14,
   "id": "01a54599",
   "metadata": {},
   "outputs": [
    {
     "data": {
      "text/plain": [
       "<AxesSubplot:>"
      ]
     },
     "execution_count": 14,
     "metadata": {},
     "output_type": "execute_result"
    },
    {
     "data": {
      "image/png": "[encoded data removed]",
      "text/plain": [
       "<Figure size 432x288 with 1 Axes>"
      ]
     },
     "metadata": {},
     "output_type": "display_data"
    }
   ],
   "source": [
    "sns.barplot(x=extractive_name, y=extractive_count)"
   ]
  },
  {
   "cell_type": "markdown",
   "id": "bcb278ec",
   "metadata": {},
   "source": [
    "⇒ 전체 데이터 중 추출된 문장(1인 값)의 개수가 추출되지 않은 문장(0인 값) 보다 매우 적음(데이터의 타겟값이 편향되어있음)    \n",
    "=> 모델 학습을 학습한 후 평가 시, 정확도가 약 80%가 나오지만 실제로 모든 값을 0으로 예측하는 문제점이 발생됨"
   ]
  },
  {
   "cell_type": "markdown",
   "id": "7f49eafb",
   "metadata": {},
   "source": [
    "### 데이터 샘플링"
   ]
  },
  {
   "cell_type": "code",
   "execution_count": 15,
   "id": "882c5dfe",
   "metadata": {},
   "outputs": [],
   "source": [
    "all_df = dataset[dataset['category'] == '종합']\n",
    "eco_df = dataset[dataset['category'] == '경제']\n",
    "soc_df = dataset[dataset['category'] == '사회']\n",
    "pol_df = dataset[dataset['category'] == '정치']"
   ]
  },
  {
   "cell_type": "code",
   "execution_count": 16,
   "id": "b16aee63",
   "metadata": {},
   "outputs": [],
   "source": [
    "temp_true_all_df = all_df[all_df['extractive']==1].sample(60000,replace=True)\n",
    "temp_false_all_df = all_df[all_df['extractive']==0].sample(140000,replace=True)\n",
    "\n",
    "temp_true_eco_df = eco_df[eco_df['extractive']==1].sample(60000,replace=True)\n",
    "temp_false_eco_df = eco_df[eco_df['extractive']==0].sample(140000,replace=True)\n",
    "\n",
    "temp_true_soc_df = soc_df[soc_df['extractive']==1].sample(60000,replace=True)\n",
    "temp_false_soc_df = soc_df[soc_df['extractive']==0].sample(140000,replace=True)\n",
    "\n",
    "temp_true_pol_df = pol_df[pol_df['extractive']==1].sample(60000,replace=True)\n",
    "temp_false_pol_df = pol_df[pol_df['extractive']==0].sample(140000,replace=True)"
   ]
  },
  {
   "cell_type": "code",
   "execution_count": 17,
   "id": "06e2f111",
   "metadata": {
    "scrolled": true
   },
   "outputs": [
    {
     "data": {
      "text/html": [
       "<div>\n",
       "<style scoped>\n",
       "    .dataframe tbody tr th:only-of-type {\n",
       "        vertical-align: middle;\n",
       "    }\n",
       "\n",
       "    .dataframe tbody tr th {\n",
       "        vertical-align: top;\n",
       "    }\n",
       "\n",
       "    .dataframe thead th {\n",
       "        text-align: right;\n",
       "    }\n",
       "</style>\n",
       "<table border=\"1\" class=\"dataframe\">\n",
       "  <thead>\n",
       "    <tr style=\"text-align: right;\">\n",
       "      <th></th>\n",
       "      <th>category</th>\n",
       "      <th>sentence</th>\n",
       "      <th>extractive</th>\n",
       "    </tr>\n",
       "  </thead>\n",
       "  <tbody>\n",
       "    <tr>\n",
       "      <th>2884095</th>\n",
       "      <td>종합</td>\n",
       "      <td>문 대통령 넥타이는 2017년 첫 연설때와 비슷한 푸른색이다.</td>\n",
       "      <td>1</td>\n",
       "    </tr>\n",
       "    <tr>\n",
       "      <th>2091962</th>\n",
       "      <td>종합</td>\n",
       "      <td>특히 해당 지역은 가족 단위 방문이 많아 미아·가출인·실종자 등이 발생했을 때 서로...</td>\n",
       "      <td>1</td>\n",
       "    </tr>\n",
       "    <tr>\n",
       "      <th>731890</th>\n",
       "      <td>종합</td>\n",
       "      <td>오인근 기자 [음성] 2년 전 음성군으로부터 사업승인을 받은 폐기물매립장 설치와 관...</td>\n",
       "      <td>1</td>\n",
       "    </tr>\n",
       "    <tr>\n",
       "      <th>854963</th>\n",
       "      <td>종합</td>\n",
       "      <td>올해는 각 나라에서 한국 문학을 연구하는 유명 교수와 작가들을 대거 패널로 참가시키...</td>\n",
       "      <td>1</td>\n",
       "    </tr>\n",
       "    <tr>\n",
       "      <th>2052530</th>\n",
       "      <td>종합</td>\n",
       "      <td>특히 체계적인 관리방안 수립을 위해 일부지역에 대해서는 사업타당성 검토를 거쳐 구체...</td>\n",
       "      <td>1</td>\n",
       "    </tr>\n",
       "    <tr>\n",
       "      <th>...</th>\n",
       "      <td>...</td>\n",
       "      <td>...</td>\n",
       "      <td>...</td>\n",
       "    </tr>\n",
       "    <tr>\n",
       "      <th>1633926</th>\n",
       "      <td>정치</td>\n",
       "      <td>군산의 경우 조선소와 자동차 공장이 연이어 문을 닫으면서 지역의 고용사정이 급속히 ...</td>\n",
       "      <td>0</td>\n",
       "    </tr>\n",
       "    <tr>\n",
       "      <th>1265187</th>\n",
       "      <td>정치</td>\n",
       "      <td>특위 위원장은 김진욱 도의원(상주·자유한국당), 부위원장은 박태춘 도의원(비례·더불...</td>\n",
       "      <td>0</td>\n",
       "    </tr>\n",
       "    <tr>\n",
       "      <th>1565515</th>\n",
       "      <td>정치</td>\n",
       "      <td>민주당 이재정 대변인은 이날 논평을 통해 민생과 경제가 어느 때보다 중요한 이 때,...</td>\n",
       "      <td>0</td>\n",
       "    </tr>\n",
       "    <tr>\n",
       "      <th>1857359</th>\n",
       "      <td>정치</td>\n",
       "      <td>우선 윤소하 원내대표는 법적 임시회를 이제 서명받고, 접수할 수밖에 없는 현실을 안...</td>\n",
       "      <td>0</td>\n",
       "    </tr>\n",
       "    <tr>\n",
       "      <th>2214311</th>\n",
       "      <td>정치</td>\n",
       "      <td>양수발전소와 주변 지역이 조화롭게 지속 성장하도록 한수원은 건설사업 관리를, 영동군...</td>\n",
       "      <td>0</td>\n",
       "    </tr>\n",
       "  </tbody>\n",
       "</table>\n",
       "<p>800000 rows × 3 columns</p>\n",
       "</div>"
      ],
      "text/plain": [
       "        category                                           sentence  \\\n",
       "2884095       종합                 문 대통령 넥타이는 2017년 첫 연설때와 비슷한 푸른색이다.   \n",
       "2091962       종합  특히 해당 지역은 가족 단위 방문이 많아 미아·가출인·실종자 등이 발생했을 때 서로...   \n",
       "731890        종합  오인근 기자 [음성] 2년 전 음성군으로부터 사업승인을 받은 폐기물매립장 설치와 관...   \n",
       "854963        종합  올해는 각 나라에서 한국 문학을 연구하는 유명 교수와 작가들을 대거 패널로 참가시키...   \n",
       "2052530       종합  특히 체계적인 관리방안 수립을 위해 일부지역에 대해서는 사업타당성 검토를 거쳐 구체...   \n",
       "...          ...                                                ...   \n",
       "1633926       정치  군산의 경우 조선소와 자동차 공장이 연이어 문을 닫으면서 지역의 고용사정이 급속히 ...   \n",
       "1265187       정치  특위 위원장은 김진욱 도의원(상주·자유한국당), 부위원장은 박태춘 도의원(비례·더불...   \n",
       "1565515       정치  민주당 이재정 대변인은 이날 논평을 통해 민생과 경제가 어느 때보다 중요한 이 때,...   \n",
       "1857359       정치  우선 윤소하 원내대표는 법적 임시회를 이제 서명받고, 접수할 수밖에 없는 현실을 안...   \n",
       "2214311       정치  양수발전소와 주변 지역이 조화롭게 지속 성장하도록 한수원은 건설사업 관리를, 영동군...   \n",
       "\n",
       "         extractive  \n",
       "2884095           1  \n",
       "2091962           1  \n",
       "731890            1  \n",
       "854963            1  \n",
       "2052530           1  \n",
       "...             ...  \n",
       "1633926           0  \n",
       "1265187           0  \n",
       "1565515           0  \n",
       "1857359           0  \n",
       "2214311           0  \n",
       "\n",
       "[800000 rows x 3 columns]"
      ]
     },
     "execution_count": 17,
     "metadata": {},
     "output_type": "execute_result"
    }
   ],
   "source": [
    "data_df = pd.DataFrame()\n",
    "data_df = pd.concat([temp_true_all_df, temp_false_all_df, temp_true_eco_df, temp_false_eco_df, temp_true_soc_df, temp_false_soc_df, temp_true_pol_df, temp_false_pol_df])\n",
    "data_df"
   ]
  },
  {
   "cell_type": "markdown",
   "id": "c4fe0e00",
   "metadata": {},
   "source": [
    "### 학습/테스트/검증 데이터 생성"
   ]
  },
  {
   "cell_type": "code",
   "execution_count": 18,
   "id": "ab8d4d20",
   "metadata": {},
   "outputs": [
    {
     "data": {
      "text/plain": [
       "(800000, 800000)"
      ]
     },
     "execution_count": 18,
     "metadata": {},
     "output_type": "execute_result"
    }
   ],
   "source": [
    "sentences = data_df['sentence']\n",
    "labels = data_df['extractive']\n",
    "len(sentences),len(labels)"
   ]
  },
  {
   "cell_type": "markdown",
   "id": "222bd714",
   "metadata": {},
   "source": [
    "#### 사전 학습 모델인 Bert 를 사용하기 위해서는 input_ids, attention_masks 데이터가 모두 필요"
   ]
  },
  {
   "cell_type": "code",
   "execution_count": 20,
   "id": "6e414f44",
   "metadata": {},
   "outputs": [
    {
     "name": "stderr",
     "output_type": "stream",
     "text": [
      "None of PyTorch, TensorFlow >= 2.0, or Flax have been found. Models won't be available and only tokenizers, configuration and file/data utilities can be used.\n"
     ]
    }
   ],
   "source": [
    "from transformers import BertTokenizer, TFBertModel, BertConfig, TFBertForSequenceClassification"
   ]
  },
  {
   "cell_type": "code",
   "execution_count": 21,
   "id": "dab8de1b",
   "metadata": {},
   "outputs": [
    {
     "data": {
      "application/vnd.jupyter.widget-view+json": {
       "model_id": "c433e888b3de4268a704b09b225e3ca1",
       "version_major": 2,
       "version_minor": 0
      },
      "text/plain": [
       "Downloading (…)solve/main/vocab.txt:   0%|          | 0.00/248k [00:00<?, ?B/s]"
      ]
     },
     "metadata": {},
     "output_type": "display_data"
    },
    {
     "name": "stderr",
     "output_type": "stream",
     "text": [
      "C:\\Users\\soyeun\\anaconda3\\lib\\site-packages\\huggingface_hub\\file_download.py:133: UserWarning: `huggingface_hub` cache-system uses symlinks by default to efficiently store duplicated files but your machine does not support them in C:\\Users\\soyeun\\.cache\\huggingface\\hub. Caching files will still work but in a degraded version that might require more space on your disk. This warning can be disabled by setting the `HF_HUB_DISABLE_SYMLINKS_WARNING` environment variable. For more details, see https://huggingface.co/docs/huggingface_hub/how-to-cache#limitations.\n",
      "To support symlinks on Windows, you either need to activate Developer Mode or to run Python as an administrator. In order to see activate developer mode, see this article: https://docs.microsoft.com/en-us/windows/apps/get-started/enable-your-device-for-development\n",
      "  warnings.warn(message)\n"
     ]
    },
    {
     "data": {
      "application/vnd.jupyter.widget-view+json": {
       "model_id": "42436f8a6f42440f925a1cec78a711e6",
       "version_major": 2,
       "version_minor": 0
      },
      "text/plain": [
       "Downloading (…)cial_tokens_map.json:   0%|          | 0.00/125 [00:00<?, ?B/s]"
      ]
     },
     "metadata": {},
     "output_type": "display_data"
    },
    {
     "data": {
      "application/vnd.jupyter.widget-view+json": {
       "model_id": "88b60eb24fab45b9894ffbb4945636b3",
       "version_major": 2,
       "version_minor": 0
      },
      "text/plain": [
       "Downloading (…)okenizer_config.json:   0%|          | 0.00/289 [00:00<?, ?B/s]"
      ]
     },
     "metadata": {},
     "output_type": "display_data"
    },
    {
     "data": {
      "application/vnd.jupyter.widget-view+json": {
       "model_id": "9324f0dfc7cc4876ba53f0fc2dc1cf5f",
       "version_major": 2,
       "version_minor": 0
      },
      "text/plain": [
       "Downloading (…)lve/main/config.json:   0%|          | 0.00/425 [00:00<?, ?B/s]"
      ]
     },
     "metadata": {},
     "output_type": "display_data"
    }
   ],
   "source": [
    "bert_tokenizer = BertTokenizer.from_pretrained(\"klue/bert-base\")"
   ]
  },
  {
   "cell_type": "code",
   "execution_count": 22,
   "id": "18af4e61",
   "metadata": {},
   "outputs": [
    {
     "name": "stderr",
     "output_type": "stream",
     "text": [
      "  0%|                                                                                       | 0/800000 [00:00<?, ?it/s]Truncation was not explicitly activated but `max_length` is provided a specific value, please use `truncation=True` to explicitly truncate examples to max length. Defaulting to 'longest_first' truncation strategy. If you encode pairs of sequences (GLUE-style) with the tokenizer you can select this strategy more precisely by providing a specific strategy to `truncation`.\n",
      "C:\\Users\\soyeun\\anaconda3\\lib\\site-packages\\transformers\\tokenization_utils_base.py:2393: FutureWarning: The `pad_to_max_length` argument is deprecated and will be removed in a future version, use `padding=True` or `padding='longest'` to pad to the longest sequence in the batch, or use `padding='max_length'` to pad to a max length. In this case, you can give a specific length with `max_length` (e.g. `max_length=45`) or leave max_length to None to pad to the maximal input size of the model (e.g. 512 for Bert).\n",
      "  warnings.warn(\n",
      "100%|████████████████████████████████████████████████████████████████████████| 800000/800000 [04:08<00:00, 3225.46it/s]\n"
     ]
    }
   ],
   "source": [
    "input_ids=[]\n",
    "attention_masks=[]\n",
    "max_length = 89\n",
    "\n",
    "for sent in tqdm(sentences):\n",
    "\n",
    "    bert_inp=bert_tokenizer.encode_plus(sent,add_special_tokens = True,max_length = max_length,pad_to_max_length = True,return_attention_mask = True)\n",
    "    input_ids.append(bert_inp['input_ids'])\n",
    "    attention_masks.append(bert_inp['attention_mask'])\n",
    "\n",
    "input_ids=np.asarray(input_ids)\n",
    "attention_masks=np.array(attention_masks)\n",
    "labels=np.array(labels)"
   ]
  },
  {
   "cell_type": "markdown",
   "id": "a1d754d8",
   "metadata": {},
   "source": [
    "### 각 데이터를 학습/테스트/검증 데이터로 나누기"
   ]
  },
  {
   "cell_type": "code",
   "execution_count": 23,
   "id": "af128cb2",
   "metadata": {},
   "outputs": [
    {
     "name": "stdout",
     "output_type": "stream",
     "text": [
      "Train inp shape (720000, 89) test input shape (80000, 89)\n",
      "Train label shape (720000,) test label shape (80000,)\n",
      "Train attention mask shape (720000, 89) test attention mask shape (80000, 89)\n"
     ]
    }
   ],
   "source": [
    "train_inp, test_inp, train_label, test_label, train_mask, test_mask = train_test_split(input_ids,labels,attention_masks,test_size=0.1,stratify = labels)\n",
    "print('Train inp shape {} test input shape {}\\nTrain label shape {} test label shape {}\\nTrain attention mask shape {} test attention mask shape {}'.format(train_inp.shape,test_inp.shape,train_label.shape,test_label.shape,train_mask.shape,test_mask.shape))"
   ]
  },
  {
   "cell_type": "code",
   "execution_count": 24,
   "id": "3bc7c574",
   "metadata": {},
   "outputs": [
    {
     "name": "stdout",
     "output_type": "stream",
     "text": [
      "Train inp shape (648000, 89) Val input shape (72000, 89)\n",
      "Train label shape (648000,) Val label shape (72000,)\n",
      "Train attention mask shape (648000, 89) Val attention mask shape (72000, 89)\n"
     ]
    }
   ],
   "source": [
    "train_inp,val_inp,train_label,val_label,train_mask,val_mask=train_test_split(train_inp,train_label,train_mask,test_size=0.1,stratify = train_label)\n",
    "print('Train inp shape {} Val input shape {}\\nTrain label shape {} Val label shape {}\\nTrain attention mask shape {} Val attention mask shape {}'.format(train_inp.shape,val_inp.shape,train_label.shape,val_label.shape,train_mask.shape,val_mask.shape))"
   ]
  },
  {
   "cell_type": "markdown",
   "id": "3cca665a",
   "metadata": {},
   "source": [
    "### 생성한 데이터를 pickle 파일로 저장"
   ]
  },
  {
   "cell_type": "code",
   "execution_count": 25,
   "id": "ea13828f",
   "metadata": {},
   "outputs": [
    {
     "name": "stdout",
     "output_type": "stream",
     "text": [
      "Preparing train data file.....\n",
      "Pickle files saved as  C:/workspace/projects/data/news_project/train/bert_inp_klue_bert_base.pkl C:/workspace/projects/data/news_project/train/bert_mask_klue_bert_base.pkl C:/workspace/projects/data/news_project/train/bert_label_klue_bert_base.pkl\n"
     ]
    }
   ],
   "source": [
    "print('Preparing train data file.....')\n",
    "\n",
    "pickle_train_inp_path= DATA_DIR + 'train/bert_inp_klue_bert_base.pkl'\n",
    "pickle_train_mask_path= DATA_DIR + 'train/bert_mask_klue_bert_base.pkl'\n",
    "pickle_train_label_path= DATA_DIR + 'train/bert_label_klue_bert_base.pkl'\n",
    "\n",
    "pickle.dump((train_inp),open(pickle_train_inp_path,'wb'))\n",
    "pickle.dump((train_mask),open(pickle_train_mask_path,'wb'))\n",
    "pickle.dump((train_label),open(pickle_train_label_path,'wb'))\n",
    "\n",
    "print('Pickle files saved as ',pickle_train_inp_path,pickle_train_mask_path,pickle_train_label_path)"
   ]
  },
  {
   "cell_type": "code",
   "execution_count": 26,
   "id": "3be74e2f",
   "metadata": {},
   "outputs": [
    {
     "name": "stdout",
     "output_type": "stream",
     "text": [
      "Preparing test data file.....\n",
      "Pickle files saved as  C:/workspace/projects/data/news_project/test/bert_inp_klue_bert_base.pkl C:/workspace/projects/data/news_project/test/bert_mask_klue_bert_base.pkl C:/workspace/projects/data/news_project/test/bert_label_klue_bert_base.pkl\n"
     ]
    }
   ],
   "source": [
    "print('Preparing test data file.....')\n",
    "\n",
    "pickle_test_inp_path= DATA_DIR + 'test/bert_inp_klue_bert_base.pkl'\n",
    "pickle_test_mask_path= DATA_DIR + 'test/bert_mask_klue_bert_base.pkl'\n",
    "pickle_test_label_path= DATA_DIR + 'test/bert_label_klue_bert_base.pkl'\n",
    "\n",
    "pickle.dump((test_inp),open(pickle_test_inp_path,'wb'))\n",
    "pickle.dump((test_mask),open(pickle_test_mask_path,'wb'))\n",
    "pickle.dump((test_label),open(pickle_test_label_path,'wb'))\n",
    "\n",
    "print('Pickle files saved as ',pickle_test_inp_path,pickle_test_mask_path,pickle_test_label_path)"
   ]
  },
  {
   "cell_type": "code",
   "execution_count": 28,
   "id": "a49a6c43",
   "metadata": {},
   "outputs": [
    {
     "name": "stdout",
     "output_type": "stream",
     "text": [
      "Preparing val data file.....\n",
      "Pickle files saved as  C:/workspace/projects/data/news_project/val/bert_inp_klue_bert_base.pkl C:/workspace/projects/data/news_project/val/bert_mask_klue_bert_base.pkl C:/workspace/projects/data/news_project/val/bert_label_klue_bert_base.pkl\n"
     ]
    }
   ],
   "source": [
    "print('Preparing val data file.....')\n",
    "\n",
    "pickle_val_inp_path= DATA_DIR + 'val/bert_inp_klue_bert_base.pkl'\n",
    "pickle_val_mask_path= DATA_DIR + 'val/bert_mask_klue_bert_base.pkl'\n",
    "pickle_val_label_path= DATA_DIR + 'val/bert_label_klue_bert_base.pkl'\n",
    "\n",
    "pickle.dump((val_inp),open(pickle_val_inp_path,'wb'))\n",
    "pickle.dump((val_mask),open(pickle_val_mask_path,'wb'))\n",
    "pickle.dump((val_label),open(pickle_val_label_path,'wb'))\n",
    "\n",
    "print('Pickle files saved as ',pickle_val_inp_path,pickle_val_mask_path,pickle_val_label_path)"
   ]
  },
  {
   "cell_type": "markdown",
   "id": "69f45a1c",
   "metadata": {},
   "source": [
    "### 모델 학습 클래스"
   ]
  },
  {
   "cell_type": "code",
   "execution_count": 45,
   "id": "38ee2e3c",
   "metadata": {},
   "outputs": [
    {
     "ename": "TypeError",
     "evalue": "Unable to convert function return value to a Python type! The signature was\n\t() -> handle",
     "output_type": "error",
     "traceback": [
      "\u001b[1;31m---------------------------------------------------------------------------\u001b[0m",
      "\u001b[1;31mTypeError\u001b[0m                                 Traceback (most recent call last)",
      "\u001b[1;32m~\\AppData\\Local\\Temp/ipykernel_14684/377146363.py\u001b[0m in \u001b[0;36m<module>\u001b[1;34m\u001b[0m\n\u001b[1;32m----> 1\u001b[1;33m \u001b[1;32mfrom\u001b[0m \u001b[0mtensorflow\u001b[0m\u001b[1;33m.\u001b[0m\u001b[0mkeras\u001b[0m\u001b[1;33m.\u001b[0m\u001b[0mcallbacks\u001b[0m \u001b[1;32mimport\u001b[0m \u001b[0mEarlyStopping\u001b[0m\u001b[1;33m\u001b[0m\u001b[1;33m\u001b[0m\u001b[0m\n\u001b[0m\u001b[0;32m      2\u001b[0m \u001b[1;32mfrom\u001b[0m \u001b[0mtensorflow\u001b[0m\u001b[1;33m.\u001b[0m\u001b[0mkeras\u001b[0m\u001b[1;33m.\u001b[0m\u001b[0mlayers\u001b[0m \u001b[1;32mimport\u001b[0m \u001b[0mInput\u001b[0m\u001b[1;33m,\u001b[0m \u001b[0mDense\u001b[0m\u001b[1;33m,\u001b[0m \u001b[0mDropout\u001b[0m\u001b[1;33m\u001b[0m\u001b[1;33m\u001b[0m\u001b[0m\n\u001b[0;32m      3\u001b[0m \u001b[1;32mfrom\u001b[0m \u001b[0mtensorflow\u001b[0m\u001b[1;33m.\u001b[0m\u001b[0mkeras\u001b[0m\u001b[1;33m.\u001b[0m\u001b[0mmodels\u001b[0m \u001b[1;32mimport\u001b[0m \u001b[0mModel\u001b[0m\u001b[1;33m\u001b[0m\u001b[1;33m\u001b[0m\u001b[0m\n\u001b[0;32m      4\u001b[0m \u001b[1;32mimport\u001b[0m \u001b[0mtensorflow\u001b[0m \u001b[1;32mas\u001b[0m \u001b[0mtf\u001b[0m\u001b[1;33m\u001b[0m\u001b[1;33m\u001b[0m\u001b[0m\n\u001b[0;32m      5\u001b[0m \u001b[1;32mfrom\u001b[0m \u001b[0mtransformers\u001b[0m \u001b[1;32mimport\u001b[0m \u001b[0mTFBertForSequenceClassification\u001b[0m\u001b[1;33m\u001b[0m\u001b[1;33m\u001b[0m\u001b[0m\n",
      "\u001b[1;32m~\\anaconda3\\lib\\site-packages\\tensorflow\\__init__.py\u001b[0m in \u001b[0;36m<module>\u001b[1;34m\u001b[0m\n\u001b[0;32m     36\u001b[0m \u001b[1;32mimport\u001b[0m \u001b[0mtyping\u001b[0m \u001b[1;32mas\u001b[0m \u001b[0m_typing\u001b[0m\u001b[1;33m\u001b[0m\u001b[1;33m\u001b[0m\u001b[0m\n\u001b[0;32m     37\u001b[0m \u001b[1;33m\u001b[0m\u001b[0m\n\u001b[1;32m---> 38\u001b[1;33m \u001b[1;32mfrom\u001b[0m \u001b[0mtensorflow\u001b[0m\u001b[1;33m.\u001b[0m\u001b[0mpython\u001b[0m\u001b[1;33m.\u001b[0m\u001b[0mtools\u001b[0m \u001b[1;32mimport\u001b[0m \u001b[0mmodule_util\u001b[0m \u001b[1;32mas\u001b[0m \u001b[0m_module_util\u001b[0m\u001b[1;33m\u001b[0m\u001b[1;33m\u001b[0m\u001b[0m\n\u001b[0m\u001b[0;32m     39\u001b[0m \u001b[1;32mfrom\u001b[0m \u001b[0mtensorflow\u001b[0m\u001b[1;33m.\u001b[0m\u001b[0mpython\u001b[0m\u001b[1;33m.\u001b[0m\u001b[0mutil\u001b[0m\u001b[1;33m.\u001b[0m\u001b[0mlazy_loader\u001b[0m \u001b[1;32mimport\u001b[0m \u001b[0mLazyLoader\u001b[0m \u001b[1;32mas\u001b[0m \u001b[0m_LazyLoader\u001b[0m\u001b[1;33m\u001b[0m\u001b[1;33m\u001b[0m\u001b[0m\n\u001b[0;32m     40\u001b[0m \u001b[1;33m\u001b[0m\u001b[0m\n",
      "\u001b[1;32m~\\anaconda3\\lib\\site-packages\\tensorflow\\python\\__init__.py\u001b[0m in \u001b[0;36m<module>\u001b[1;34m\u001b[0m\n\u001b[0;32m     35\u001b[0m \u001b[1;33m\u001b[0m\u001b[0m\n\u001b[0;32m     36\u001b[0m \u001b[1;32mfrom\u001b[0m \u001b[0mtensorflow\u001b[0m\u001b[1;33m.\u001b[0m\u001b[0mpython\u001b[0m \u001b[1;32mimport\u001b[0m \u001b[0mpywrap_tensorflow\u001b[0m \u001b[1;32mas\u001b[0m \u001b[0m_pywrap_tensorflow\u001b[0m\u001b[1;33m\u001b[0m\u001b[1;33m\u001b[0m\u001b[0m\n\u001b[1;32m---> 37\u001b[1;33m \u001b[1;32mfrom\u001b[0m \u001b[0mtensorflow\u001b[0m\u001b[1;33m.\u001b[0m\u001b[0mpython\u001b[0m\u001b[1;33m.\u001b[0m\u001b[0meager\u001b[0m \u001b[1;32mimport\u001b[0m \u001b[0mcontext\u001b[0m\u001b[1;33m\u001b[0m\u001b[1;33m\u001b[0m\u001b[0m\n\u001b[0m\u001b[0;32m     38\u001b[0m \u001b[1;33m\u001b[0m\u001b[0m\n\u001b[0;32m     39\u001b[0m \u001b[1;31m# pylint: enable=wildcard-import\u001b[0m\u001b[1;33m\u001b[0m\u001b[1;33m\u001b[0m\u001b[0m\n",
      "\u001b[1;32m~\\anaconda3\\lib\\site-packages\\tensorflow\\python\\eager\\context.py\u001b[0m in \u001b[0;36m<module>\u001b[1;34m\u001b[0m\n\u001b[0;32m     34\u001b[0m \u001b[1;32mfrom\u001b[0m \u001b[0mtensorflow\u001b[0m\u001b[1;33m.\u001b[0m\u001b[0mpython\u001b[0m\u001b[1;33m.\u001b[0m\u001b[0mclient\u001b[0m \u001b[1;32mimport\u001b[0m \u001b[0mpywrap_tf_session\u001b[0m\u001b[1;33m\u001b[0m\u001b[1;33m\u001b[0m\u001b[0m\n\u001b[0;32m     35\u001b[0m \u001b[1;32mfrom\u001b[0m \u001b[0mtensorflow\u001b[0m\u001b[1;33m.\u001b[0m\u001b[0mpython\u001b[0m\u001b[1;33m.\u001b[0m\u001b[0meager\u001b[0m \u001b[1;32mimport\u001b[0m \u001b[0mcancellation\u001b[0m\u001b[1;33m\u001b[0m\u001b[1;33m\u001b[0m\u001b[0m\n\u001b[1;32m---> 36\u001b[1;33m \u001b[1;32mfrom\u001b[0m \u001b[0mtensorflow\u001b[0m\u001b[1;33m.\u001b[0m\u001b[0mpython\u001b[0m\u001b[1;33m.\u001b[0m\u001b[0meager\u001b[0m \u001b[1;32mimport\u001b[0m \u001b[0mexecute\u001b[0m\u001b[1;33m\u001b[0m\u001b[1;33m\u001b[0m\u001b[0m\n\u001b[0m\u001b[0;32m     37\u001b[0m \u001b[1;32mfrom\u001b[0m \u001b[0mtensorflow\u001b[0m\u001b[1;33m.\u001b[0m\u001b[0mpython\u001b[0m\u001b[1;33m.\u001b[0m\u001b[0meager\u001b[0m \u001b[1;32mimport\u001b[0m \u001b[0mexecutor\u001b[0m\u001b[1;33m\u001b[0m\u001b[1;33m\u001b[0m\u001b[0m\n\u001b[0;32m     38\u001b[0m \u001b[1;32mfrom\u001b[0m \u001b[0mtensorflow\u001b[0m\u001b[1;33m.\u001b[0m\u001b[0mpython\u001b[0m\u001b[1;33m.\u001b[0m\u001b[0meager\u001b[0m \u001b[1;32mimport\u001b[0m \u001b[0mmonitoring\u001b[0m\u001b[1;33m\u001b[0m\u001b[1;33m\u001b[0m\u001b[0m\n",
      "\u001b[1;32m~\\anaconda3\\lib\\site-packages\\tensorflow\\python\\eager\\execute.py\u001b[0m in \u001b[0;36m<module>\u001b[1;34m\u001b[0m\n\u001b[0;32m     19\u001b[0m \u001b[1;32mfrom\u001b[0m \u001b[0mtensorflow\u001b[0m\u001b[1;33m.\u001b[0m\u001b[0mpython\u001b[0m \u001b[1;32mimport\u001b[0m \u001b[0mpywrap_tfe\u001b[0m\u001b[1;33m\u001b[0m\u001b[1;33m\u001b[0m\u001b[0m\n\u001b[0;32m     20\u001b[0m \u001b[1;32mfrom\u001b[0m \u001b[0mtensorflow\u001b[0m\u001b[1;33m.\u001b[0m\u001b[0mpython\u001b[0m\u001b[1;33m.\u001b[0m\u001b[0meager\u001b[0m \u001b[1;32mimport\u001b[0m \u001b[0mcore\u001b[0m\u001b[1;33m\u001b[0m\u001b[1;33m\u001b[0m\u001b[0m\n\u001b[1;32m---> 21\u001b[1;33m \u001b[1;32mfrom\u001b[0m \u001b[0mtensorflow\u001b[0m\u001b[1;33m.\u001b[0m\u001b[0mpython\u001b[0m\u001b[1;33m.\u001b[0m\u001b[0mframework\u001b[0m \u001b[1;32mimport\u001b[0m \u001b[0mdtypes\u001b[0m\u001b[1;33m\u001b[0m\u001b[1;33m\u001b[0m\u001b[0m\n\u001b[0m\u001b[0;32m     22\u001b[0m \u001b[1;32mfrom\u001b[0m \u001b[0mtensorflow\u001b[0m\u001b[1;33m.\u001b[0m\u001b[0mpython\u001b[0m\u001b[1;33m.\u001b[0m\u001b[0mframework\u001b[0m \u001b[1;32mimport\u001b[0m \u001b[0mtensor_conversion_registry\u001b[0m\u001b[1;33m\u001b[0m\u001b[1;33m\u001b[0m\u001b[0m\n\u001b[0;32m     23\u001b[0m \u001b[1;32mfrom\u001b[0m \u001b[0mtensorflow\u001b[0m\u001b[1;33m.\u001b[0m\u001b[0mpython\u001b[0m\u001b[1;33m.\u001b[0m\u001b[0mframework\u001b[0m \u001b[1;32mimport\u001b[0m \u001b[0mtensor_shape\u001b[0m\u001b[1;33m\u001b[0m\u001b[1;33m\u001b[0m\u001b[0m\n",
      "\u001b[1;32m~\\anaconda3\\lib\\site-packages\\tensorflow\\python\\framework\\dtypes.py\u001b[0m in \u001b[0;36m<module>\u001b[1;34m\u001b[0m\n\u001b[0;32m     36\u001b[0m \u001b[1;32mfrom\u001b[0m \u001b[0mtensorflow\u001b[0m\u001b[1;33m.\u001b[0m\u001b[0mpython\u001b[0m\u001b[1;33m.\u001b[0m\u001b[0mframework\u001b[0m \u001b[1;32mimport\u001b[0m \u001b[0mcpp_shape_inference_pb2\u001b[0m\u001b[1;33m\u001b[0m\u001b[1;33m\u001b[0m\u001b[0m\n\u001b[0;32m     37\u001b[0m \u001b[1;33m\u001b[0m\u001b[0m\n\u001b[1;32m---> 38\u001b[1;33m \u001b[0m_np_bfloat16\u001b[0m \u001b[1;33m=\u001b[0m \u001b[0mpywrap_bfloat16\u001b[0m\u001b[1;33m.\u001b[0m\u001b[0mbfloat16_type\u001b[0m\u001b[1;33m(\u001b[0m\u001b[1;33m)\u001b[0m\u001b[1;33m\u001b[0m\u001b[1;33m\u001b[0m\u001b[0m\n\u001b[0m\u001b[0;32m     39\u001b[0m \u001b[0m_np_float8_e4m3fn\u001b[0m \u001b[1;33m=\u001b[0m \u001b[0m_pywrap_float8\u001b[0m\u001b[1;33m.\u001b[0m\u001b[0mTF_float8_e4m3fn_type\u001b[0m\u001b[1;33m(\u001b[0m\u001b[1;33m)\u001b[0m\u001b[1;33m\u001b[0m\u001b[1;33m\u001b[0m\u001b[0m\n\u001b[0;32m     40\u001b[0m \u001b[0m_np_float8_e5m2\u001b[0m \u001b[1;33m=\u001b[0m \u001b[0m_pywrap_float8\u001b[0m\u001b[1;33m.\u001b[0m\u001b[0mTF_float8_e5m2_type\u001b[0m\u001b[1;33m(\u001b[0m\u001b[1;33m)\u001b[0m\u001b[1;33m\u001b[0m\u001b[1;33m\u001b[0m\u001b[0m\n",
      "\u001b[1;31mTypeError\u001b[0m: Unable to convert function return value to a Python type! The signature was\n\t() -> handle"
     ]
    }
   ],
   "source": [
    "from tensorflow.keras.callbacks import EarlyStopping\n",
    "from tensorflow.keras.layers import Input, Dense, Dropout\n",
    "from tensorflow.keras.models import Model\n",
    "import tensorflow as tf\n",
    "from transformers import TFBertForSequenceClassification\n",
    "\n",
    "class BertClassifierWithHiddenLayers:\n",
    "    def __init__(self, file_path, model_filename, model_save_path, model_name, max_length):\n",
    "        self.file_path = file_path\n",
    "        self.model_filename = model_filename\n",
    "        self.model_name = model_name\n",
    "        self.max_length = max_length\n",
    "        self.model_save_path = model_save_path\n",
    "        self.batch_size = 16  # Add batch_size as an attribute\n",
    "        self.epochs = 5  # Add epochs as an attribute\n",
    "        self.model = None\n",
    "        self.callbacks = None  # Add callbacks as an attribute\n",
    "\n",
    "        \n",
    "    def build_model(self):\n",
    "        monitor = 'val_loss'\n",
    "        learning_rate = 2e-5\n",
    "        epsilon = 1e-08\n",
    "        dropout_rate = 0.2\n",
    "        batch_size = 16\n",
    "        epochs = 5\n",
    "\n",
    "        # es = EarlyStopping(monitor=monitor, mode='max', verbose=1, patience=3)\n",
    "        self.callbacks = [tf.keras.callbacks.ModelCheckpoint(filepath=self.model_save_path, save_weights_only=False, monitor=monitor, mode='min', save_best_only=True), EarlyStopping(monitor=monitor, mode='max', verbose=1, patience=3)]\n",
    "\n",
    "        loss = tf.keras.losses.SparseCategoricalCrossentropy(from_logits=True)\n",
    "        metric = tf.keras.metrics.SparseCategoricalAccuracy('accuracy')\n",
    "        optimizer = tf.keras.optimizers.Adam(learning_rate=learning_rate, epsilon=epsilon)\n",
    "\n",
    "        input_ids = Input(shape=(self.max_length,), dtype='int64', name='input_ids')\n",
    "        attention_mask = Input(shape=(self.max_length,), dtype='int64', name='attention_mask')\n",
    "\n",
    "        bert_model = TFBertForSequenceClassification.from_pretrained(self.model_name, from_pt=True)\n",
    "        bert_output = bert_model(input_ids, attention_mask = attention_mask)[0]\n",
    "\n",
    "        hidden1 = Dense(768, activation='relu')(bert_output)\n",
    "        dropout1 = Dropout(dropout_rate)(hidden1)\n",
    "        hidden2 = Dense(256, activation='relu')(dropout1)\n",
    "        dropout2 = Dropout(dropout_rate)(hidden2)\n",
    "        classifier = Dense(2, activation='sigmoid')(dropout2)\n",
    "\n",
    "        self.model = Model(inputs=[input_ids, attention_mask], outputs=classifier)\n",
    "\n",
    "        self.model.compile(loss=loss, optimizer=optimizer, metrics=[metric])\n",
    "        self.model.summary()\n",
    "\n",
    "    def fit(self, train_inp, train_mask, train_label, val_inp, val_mask, val_label):\n",
    "        self.build_model()\n",
    "        \n",
    "        history = self.model.fit(\n",
    "            {'input_ids': train_inp, 'attention_mask': train_mask},\n",
    "            train_label,\n",
    "            batch_size = self.batch_size,\n",
    "            validation_data=(\n",
    "                {'input_ids': val_inp, 'attention_mask': val_mask},\n",
    "                val_label\n",
    "            ),\n",
    "            epochs = self.epochs,\n",
    "            callbacks = self.callbacks\n",
    "        )\n",
    "\n",
    "        return history, self.model"
   ]
  },
  {
   "cell_type": "code",
   "execution_count": null,
   "id": "e89ad086",
   "metadata": {},
   "outputs": [],
   "source": []
  },
  {
   "cell_type": "code",
   "execution_count": null,
   "id": "491f4ae8",
   "metadata": {},
   "outputs": [],
   "source": []
  },
  {
   "cell_type": "code",
   "execution_count": null,
   "id": "2fabe92b",
   "metadata": {},
   "outputs": [],
   "source": []
  },
  {
   "cell_type": "code",
   "execution_count": null,
   "id": "3b2e28e7",
   "metadata": {},
   "outputs": [],
   "source": []
  },
  {
   "cell_type": "code",
   "execution_count": null,
   "id": "d92a073b",
   "metadata": {},
   "outputs": [],
   "source": []
  },
  {
   "cell_type": "code",
   "execution_count": null,
   "id": "c30c0183",
   "metadata": {},
   "outputs": [],
   "source": []
  },
  {
   "cell_type": "code",
   "execution_count": null,
   "id": "446d0d3f",
   "metadata": {},
   "outputs": [],
   "source": []
  },
  {
   "cell_type": "code",
   "execution_count": null,
   "id": "c70b5eeb",
   "metadata": {},
   "outputs": [],
   "source": []
  },
  {
   "cell_type": "code",
   "execution_count": null,
   "id": "46f8f697",
   "metadata": {},
   "outputs": [],
   "source": []
  },
  {
   "cell_type": "code",
   "execution_count": null,
   "id": "d2b7cc20",
   "metadata": {},
   "outputs": [],
   "source": []
  },
  {
   "cell_type": "code",
   "execution_count": null,
   "id": "c906d699",
   "metadata": {},
   "outputs": [],
   "source": []
  }
 ],
 "metadata": {
  "kernelspec": {
   "display_name": "Python 3 (ipykernel)",
   "language": "python",
   "name": "python3"
  },
  "language_info": {
   "codemirror_mode": {
    "name": "ipython",
    "version": 3
   },
   "file_extension": ".py",
   "mimetype": "text/x-python",
   "name": "python",
   "nbconvert_exporter": "python",
   "pygments_lexer": "ipython3",
   "version": "3.9.7"
  }
 },
 "nbformat": 4,
 "nbformat_minor": 5
}
